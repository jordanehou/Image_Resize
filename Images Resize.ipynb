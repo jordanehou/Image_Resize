# import libraries
import cv2
import os
from os import listdir,makedirs
from os.path import isfile,join
import tensorflow as tf
import numpy as np
import glob
from PIL import Image

# specufy image path
image_path = 'C:\\Users\\Diponkor\\Desktop\\Normal\\'

# specify destination path
directory = 'C:\\Users\\Diponkor\\Desktop\\Newnormal\\'

i = 1

for img in glob.glob(image_path+'/*.*'):
    if i<=5:
      try:
          img = cv2.imread(img)
          # Resize the images
          img_resize = cv2.resize(img, (224, 224))
          # Convert to grayscale (It is optional, depending on your choice)
          #img_b = cv2.cvtColor(img, cv2.COLOR_BGR2GRAY)


          os.chdir(directory)
          print("Before saving:")
          print(os.listdir(directory))
          # Rename your dataset
          filename = "normal" + str(i) + ".png"
          #filename = "" + str(i) + ".png"

          cv2.imwrite(filename, img_resize)
         # cv2.imwrite(filename, img_b)

          print("After saving image")
          print(os.listdir(directory))
          print("Successfully saved")

          i+=1

      except:
          print ("{} is not resized".format(image))
    else:
      print ("false")
      return 0;
